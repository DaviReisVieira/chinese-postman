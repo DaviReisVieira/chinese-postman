{
 "cells": [
  {
   "cell_type": "markdown",
   "metadata": {},
   "source": [
    "# Chinese Postman Problem"
   ]
  },
  {
   "cell_type": "markdown",
   "metadata": {},
   "source": [
    "Alunos:\n",
    "- Davi Reis Vieira de Souza\n",
    "- Mariana Barbosa Sousa"
   ]
  },
  {
   "cell_type": "markdown",
   "metadata": {},
   "source": [
    "## Introdução\n",
    "\n",
    "O Problema do Carteiro Chinês (Chinese Postman Problem - CPP) é um desafio clássico da teoria dos grafos que envolve encontrar o caminho mais curto que visita todas as arestas de um grafo pelo menos uma vez e retorna ao ponto de partida. Sua relevância prática é evidente em várias aplicações do mundo real, como no planejamento de rotas de entrega, manutenção de redes de infraestrutura e coleta de lixo."
   ]
  },
  {
   "cell_type": "markdown",
   "metadata": {},
   "source": [
    "## Desenvolvimento\n",
    "\n",
    "Inicialmente, foi adotada uma abordagem teórica para resolver o CPP, focando na resolução de grafos não direcionados e ponderados. Foi examinado o caso trivial de um grafo Euleriano, no qual todas as vértices têm **grau par**. A solução para esse caso é simples: encontrar um ciclo Euleriano que visite todas as arestas uma vez."
   ]
  },
  {
   "cell_type": "markdown",
   "metadata": {},
   "source": [
    "![img1.svg](imgs/img1.svg)"
   ]
  },
  {
   "cell_type": "markdown",
   "metadata": {},
   "source": [
    "Em seguida, resolveu-se o caso em que apenas dois vértices têm grau ímpar."
   ]
  },
  {
   "cell_type": "markdown",
   "metadata": {},
   "source": [
    "![img2.svg](imgs/img2.svg)"
   ]
  },
  {
   "cell_type": "markdown",
   "metadata": {},
   "source": [
    "A solução envolve duplicar as arestas no caminho mais curto entre esses vértices para minimizar o custo do ciclo final. No entanto, quando o grafo não é Euleriano,ou seja, possui mais de dois vértices de grau ímpar, precisamos torná-lo Euleriano antes de aplicar o mesmo método. Isso levou a uma etapa mais complexa do processo, onde utilizou-se o algoritmo de **Dijkstra** para gerar os caminhos mais curtos entre os vértices de grau ímpar."
   ]
  },
  {
   "cell_type": "markdown",
   "metadata": {},
   "source": [
    "![img3.svg](imgs/img3.svg)"
   ]
  },
  {
   "cell_type": "markdown",
   "metadata": {},
   "source": [
    "A parte mais desafiadora foi **gerar a combinação de pares desses vértices de grau ímpar** com o peso mínimo antes de reintegrá-los ao nosso grafo."
   ]
  },
  {
   "cell_type": "code",
   "execution_count": 2,
   "metadata": {},
   "outputs": [],
   "source": [
    "import eulerian\n",
    "from ChinesePostman import EulerianPathSolver"
   ]
  },
  {
   "cell_type": "code",
   "execution_count": 6,
   "metadata": {},
   "outputs": [
    {
     "name": "stdout",
     "output_type": "stream",
     "text": [
      "Result: 28| Expected: 28\n",
      "Is eulerian path: False\n",
      "Edges: [0, 1, 5, 3, 1, 3, 5, 4, 0, 2, 4, 2, 0]\n"
     ]
    }
   ],
   "source": [
    "edges = [(0, 1, 3), (0, 2, 1), (0, 4, 5), (2, 4, 2),\n",
    "         (4, 5, 4), (1, 5, 6), (1, 3, 1), (5, 3, 1)]\n",
    "\n",
    "result = 28\n",
    "n = 6\n",
    "\n",
    "classe = EulerianPathSolver(edges, n)\n",
    "r = classe.solving()\n",
    "is_eulerian_path = eulerian.is_eulerian_path(edges, r[1])\n",
    "\n",
    "print(f\"Result: {r[0]}| Expected: {result}\")\n",
    "print(f\"Is eulerian path: {is_eulerian_path}\")\n",
    "print(f\"Edges: {r[1]}\")"
   ]
  },
  {
   "cell_type": "code",
   "execution_count": 4,
   "metadata": {},
   "outputs": [
    {
     "name": "stdout",
     "output_type": "stream",
     "text": [
      "Result: 1000| Expected: 1000\n",
      "Is eulerian path: False\n",
      "Edges: [0, 1, 5, 7, 3, 2, 1, 4, 2, 1, 5, 4, 3, 6, 7, 5, 0]\n"
     ]
    }
   ],
   "source": [
    "edges = [(0, 1, 70), (0, 5, 70), (1, 5, 50), (1, 2, 50), (1, 4, 50), (2, 4, 50),\n",
    "         (2, 3, 50), (3, 4, 70), (4, 5, 60), (3, 6, 70), (3, 7, 120), (6, 7, 70), (5, 7, 60)]\n",
    "\n",
    "result = 1000\n",
    "n = 8\n",
    "\n",
    "classe = EulerianPathSolver(edges, n)\n",
    "r = classe.solving()\n",
    "is_eulerian_path = eulerian.is_eulerian_path(edges, r[1])\n",
    "\n",
    "print(f\"Result: {r[0]}| Expected: {result}\")\n",
    "print(f\"Is eulerian path: {is_eulerian_path}\")\n",
    "print(f\"Edges: {r[1]}\")\n"
   ]
  },
  {
   "cell_type": "markdown",
   "metadata": {},
   "source": [
    "## Conclusão\n",
    "\n",
    "Embora a abordagem teórica inicial tenha sido valiosa para compreender os fundamentos do CPP, suas limitações ficaram evidentes ao aplicá-la a casos do mundo real, especialmente em grafos direcionados e de maior escala. No entanto, o estudo desses métodos teóricos forneceu uma base sólida para explorar soluções mais eficientes e adaptáveis, utilizando algoritmos de grafos mais avançados e técnicas de otimização."
   ]
  },
  {
   "cell_type": "markdown",
   "metadata": {},
   "source": []
  }
 ],
 "metadata": {
  "kernelspec": {
   "display_name": ".venv",
   "language": "python",
   "name": "python3"
  },
  "language_info": {
   "codemirror_mode": {
    "name": "ipython",
    "version": 3
   },
   "file_extension": ".py",
   "mimetype": "text/x-python",
   "name": "python",
   "nbconvert_exporter": "python",
   "pygments_lexer": "ipython3",
   "version": "3.11.3"
  }
 },
 "nbformat": 4,
 "nbformat_minor": 2
}
